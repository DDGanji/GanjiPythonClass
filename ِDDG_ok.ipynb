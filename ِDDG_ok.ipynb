{
  "cells": [
    {
      "cell_type": "markdown",
      "metadata": {
        "id": "view-in-github",
        "colab_type": "text"
      },
      "source": [
        "<a href=\"https://colab.research.google.com/github/DDGanji/GanjiPythonClass/blob/main/%D9%90DDG_ok.ipynb\" target=\"_parent\"><img src=\"https://colab.research.google.com/assets/colab-badge.svg\" alt=\"Open In Colab\"/></a>"
      ]
    },
    {
      "cell_type": "code",
      "execution_count": null,
      "id": "2db210a9",
      "metadata": {
        "id": "2db210a9"
      },
      "outputs": [],
      "source": [
        "import numpy as np\n",
        "import matplotlib.pyplot as plt"
      ]
    },
    {
      "cell_type": "markdown",
      "id": "e591acd3",
      "metadata": {
        "id": "e591acd3"
      },
      "source": [
        "# Creating Arraye"
      ]
    },
    {
      "cell_type": "code",
      "execution_count": null,
      "id": "63f6e3f5",
      "metadata": {
        "id": "63f6e3f5"
      },
      "outputs": [],
      "source": [
        "a1 = np.array([3,5,7,3])\n",
        "a2 = np.zeros(10)\n",
        "a3 = np.ones(10)\n",
        "a4 = np.random.random(10)\n",
        "a5 = np.random.randn(10)\n",
        "a6 = np.linspace(0, 10, 100)\n",
        "a7 = np.arange(0, 10 , 0.02)"
      ]
    },
    {
      "cell_type": "markdown",
      "id": "c2847a18",
      "metadata": {
        "id": "c2847a18"
      },
      "source": [
        "# Array Operations"
      ]
    },
    {
      "cell_type": "code",
      "execution_count": null,
      "id": "1b821159",
      "metadata": {
        "id": "1b821159",
        "outputId": "6857c6de-0d59-4386-8201-fc6e668408dd"
      },
      "outputs": [
        {
          "data": {
            "text/plain": [
              "array([3, 5, 7, 3])"
            ]
          },
          "execution_count": 3,
          "metadata": {},
          "output_type": "execute_result"
        }
      ],
      "source": [
        "a1"
      ]
    },
    {
      "cell_type": "code",
      "execution_count": null,
      "id": "fdad885e",
      "metadata": {
        "id": "fdad885e",
        "outputId": "5ea32ee5-b2fd-4938-ed37-4d1b380e1be7"
      },
      "outputs": [
        {
          "data": {
            "text/plain": [
              "array([ 6, 10, 14,  6])"
            ]
          },
          "execution_count": 4,
          "metadata": {},
          "output_type": "execute_result"
        }
      ],
      "source": [
        "2*a1"
      ]
    },
    {
      "cell_type": "code",
      "execution_count": null,
      "id": "849d5722",
      "metadata": {
        "id": "849d5722",
        "outputId": "f23d1204-476a-4b39-88aa-0e48d1264dbf"
      },
      "outputs": [
        {
          "data": {
            "text/plain": [
              "array([0.33333333, 0.2       , 0.14285714, 0.33333333])"
            ]
          },
          "execution_count": 5,
          "metadata": {},
          "output_type": "execute_result"
        }
      ],
      "source": [
        "1/a1"
      ]
    },
    {
      "cell_type": "code",
      "execution_count": null,
      "id": "7c2f111b",
      "metadata": {
        "id": "7c2f111b",
        "outputId": "7d5e71a7-4a02-4f4c-9697-2786b62f4372"
      },
      "outputs": [
        {
          "data": {
            "text/plain": [
              "array([5.33333333, 7.2       , 9.14285714, 5.33333333])"
            ]
          },
          "execution_count": 6,
          "metadata": {},
          "output_type": "execute_result"
        }
      ],
      "source": [
        "1/a1+a1+2"
      ]
    },
    {
      "cell_type": "code",
      "execution_count": null,
      "id": "3f5c6b4d",
      "metadata": {
        "id": "3f5c6b4d"
      },
      "outputs": [],
      "source": [
        "x = np.linspace(0, 1, 100)"
      ]
    },
    {
      "cell_type": "code",
      "execution_count": null,
      "id": "e24a2682",
      "metadata": {
        "id": "e24a2682",
        "outputId": "cac41c9b-e558-4701-8cda-f8e4679765f5"
      },
      "outputs": [
        {
          "data": {
            "text/plain": [
              "[<matplotlib.lines.Line2D at 0x2321a408b50>]"
            ]
          },
          "execution_count": 8,
          "metadata": {},
          "output_type": "execute_result"
        },
        {
          "data": {
            "image/png": "[encoded data removed]",
            "text/plain": [
              "<Figure size 432x288 with 1 Axes>"
            ]
          },
          "metadata": {
            "needs_background": "light"
          },
          "output_type": "display_data"
        }
      ],
      "source": [
        "plt.plot(x,x**2)"
      ]
    },
    {
      "cell_type": "markdown",
      "id": "33966f80",
      "metadata": {
        "id": "33966f80"
      },
      "source": [
        "# Array Indexing/Slicing"
      ]
    },
    {
      "cell_type": "code",
      "execution_count": null,
      "id": "5446faaf",
      "metadata": {
        "id": "5446faaf"
      },
      "outputs": [],
      "source": [
        "a1 = np.array([2,4,6,8,10])"
      ]
    },
    {
      "cell_type": "code",
      "execution_count": null,
      "id": "0b9a507b",
      "metadata": {
        "id": "0b9a507b",
        "outputId": "e9a1d29b-b524-4fd0-c348-d33509e6966b"
      },
      "outputs": [
        {
          "data": {
            "text/plain": [
              "6"
            ]
          },
          "execution_count": 10,
          "metadata": {},
          "output_type": "execute_result"
        }
      ],
      "source": [
        "a1[2]"
      ]
    },
    {
      "cell_type": "code",
      "execution_count": null,
      "id": "109db3de",
      "metadata": {
        "id": "109db3de",
        "outputId": "9d27a412-027e-4a79-9237-2c058bd533c2"
      },
      "outputs": [
        {
          "data": {
            "text/plain": [
              "array([ 6,  8, 10])"
            ]
          },
          "execution_count": 11,
          "metadata": {},
          "output_type": "execute_result"
        }
      ],
      "source": [
        "a1[2:]"
      ]
    },
    {
      "cell_type": "code",
      "execution_count": null,
      "id": "bf295f38",
      "metadata": {
        "id": "bf295f38",
        "outputId": "8d486b1b-75de-4464-a22f-0bcc8680abcc"
      },
      "outputs": [
        {
          "data": {
            "text/plain": [
              "array([2, 4, 6])"
            ]
          },
          "execution_count": 12,
          "metadata": {},
          "output_type": "execute_result"
        }
      ],
      "source": [
        "a1[:-2]"
      ]
    },
    {
      "cell_type": "code",
      "execution_count": null,
      "id": "0b4d6fc6",
      "metadata": {
        "id": "0b4d6fc6",
        "outputId": "3a971b56-59f5-49a6-88e9-bbfac1be6714"
      },
      "outputs": [
        {
          "data": {
            "text/plain": [
              "array([4, 6])"
            ]
          },
          "execution_count": 13,
          "metadata": {},
          "output_type": "execute_result"
        }
      ],
      "source": [
        "a1[1:-2]"
      ]
    },
    {
      "cell_type": "code",
      "execution_count": null,
      "id": "f3440bc8",
      "metadata": {
        "id": "f3440bc8",
        "outputId": "659657f6-8fcd-4f62-9d24-adac868ef203"
      },
      "outputs": [
        {
          "data": {
            "text/plain": [
              "array([ 4,  6,  8, 10])"
            ]
          },
          "execution_count": 14,
          "metadata": {},
          "output_type": "execute_result"
        }
      ],
      "source": [
        "a1[a1>3]"
      ]
    },
    {
      "cell_type": "markdown",
      "id": "3c702602",
      "metadata": {
        "id": "3c702602"
      },
      "source": [
        "# Example 1:"
      ]
    },
    {
      "cell_type": "code",
      "execution_count": null,
      "id": "83e3bc15",
      "metadata": {
        "id": "83e3bc15",
        "outputId": "64bc408c-20e4-4ac3-d161-d09ac4dfe362"
      },
      "outputs": [
        {
          "data": {
            "text/plain": [
              "[<matplotlib.lines.Line2D at 0x2321aba6df0>]"
            ]
          },
          "execution_count": 15,
          "metadata": {},
          "output_type": "execute_result"
        },
        {
          "data": {
            "image/png": "[encoded data removed]",
            "text/plain": [
              "<Figure size 432x288 with 1 Axes>"
            ]
          },
          "metadata": {
            "needs_background": "light"
          },
          "output_type": "display_data"
        }
      ],
      "source": [
        "#1\n",
        "theta = np.linspace(0, 2*np.pi, 1000)\n",
        "r = 1+ 3/4 * np.sin(3*theta)\n",
        "x = r * np.cos(theta)\n",
        "y = r * np.sin(theta)\n",
        "plt.plot(x,y)"
      ]
    },
    {
      "cell_type": "markdown",
      "id": "ad55b313",
      "metadata": {
        "id": "ad55b313"
      },
      "source": [
        "# Example 2:"
      ]
    },
    {
      "cell_type": "code",
      "execution_count": null,
      "id": "570c0588",
      "metadata": {
        "id": "570c0588"
      },
      "outputs": [],
      "source": [
        "kt = np.linspace(0, 3, 100)\n",
        "P = (1/(1+np.exp(-kt)))**4\n",
        "E = np.cumsum(P) * (kt[1] - kt[0])"
      ]
    },
    {
      "cell_type": "code",
      "execution_count": null,
      "id": "509ecbb4",
      "metadata": {
        "id": "509ecbb4",
        "outputId": "c683dfa4-6426-4796-c0bb-9539f58bc16e"
      },
      "outputs": [
        {
          "data": {
            "text/plain": [
              "Text(0, 0.5, '$\\\\left(\\\\frac{k}{A \\\\sigma \\\\epsilon T_0^4}\\\\right) E(kt)$')"
            ]
          },
          "execution_count": 17,
          "metadata": {},
          "output_type": "execute_result"
        },
        {
          "data": {
            "image/png": "[encoded data removed]",
            "text/plain": [
              "<Figure size 432x288 with 1 Axes>"
            ]
          },
          "metadata": {
            "needs_background": "light"
          },
          "output_type": "display_data"
        }
      ],
      "source": [
        "plt.plot(kt, E)\n",
        "plt.xlabel('$kt$', fontsize=20)\n",
        "plt.ylabel(r'$\\left(\\frac{k}{A \\sigma \\epsilon T_0^4}\\right) E(kt)$', fontsize=20)"
      ]
    },
    {
      "cell_type": "markdown",
      "id": "2b1e6bb5",
      "metadata": {
        "id": "2b1e6bb5"
      },
      "source": [
        "# Example 3:"
      ]
    },
    {
      "cell_type": "code",
      "execution_count": null,
      "id": "13762d9c",
      "metadata": {
        "id": "13762d9c"
      },
      "outputs": [],
      "source": [
        "import numpy as np\n",
        "import matplotlib.pyplot as plt"
      ]
    },
    {
      "cell_type": "code",
      "execution_count": null,
      "id": "fb49e85a",
      "metadata": {
        "id": "fb49e85a",
        "outputId": "dae8fd31-8a9d-4774-ffb3-874c20950df7"
      },
      "outputs": [
        {
          "data": {
            "text/plain": [
              "<matplotlib.colorbar.Colorbar at 0x2321e11ce80>"
            ]
          },
          "execution_count": 19,
          "metadata": {},
          "output_type": "execute_result"
        },
        {
          "data": {
            "image/png": "[encoded data removed]",
            "text/plain": [
              "<Figure size 432x288 with 2 Axes>"
            ]
          },
          "metadata": {
            "needs_background": "light"
          },
          "output_type": "display_data"
        }
      ],
      "source": [
        "#1\n",
        "x = np.linspace(-2, 2, 1000)\n",
        "y = np.linspace(-2, 2, 1000)\n",
        "xv, yv = np.meshgrid(x, y)\n",
        "f = np.exp(-(xv**2 + yv**2)) * np.sin(xv)\n",
        "plt.contourf(xv,yv,f, levels=100)\n",
        "plt.colorbar()"
      ]
    },
    {
      "cell_type": "code",
      "execution_count": null,
      "id": "a3040f0c",
      "metadata": {
        "id": "a3040f0c",
        "outputId": "7e81e1e2-8f72-4e86-bb2d-2c3782ad09dd"
      },
      "outputs": [
        {
          "data": {
            "text/plain": [
              "1.4861858145124311"
            ]
          },
          "execution_count": 20,
          "metadata": {},
          "output_type": "execute_result"
        }
      ],
      "source": [
        "#2\n",
        "np.abs(f.ravel()).sum() * np.diff(x)[0] * np.diff(x)[0]"
      ]
    },
    {
      "cell_type": "code",
      "execution_count": null,
      "id": "eed8051a",
      "metadata": {
        "id": "eed8051a",
        "outputId": "bea8fec4-b2b6-4550-bc61-7b85b382c37c"
      },
      "outputs": [
        {
          "data": {
            "text/plain": [
              "array([0.00030504, 0.00031052, 0.00031609, ..., 0.00031609, 0.00031052,\n",
              "       0.00030504])"
            ]
          },
          "execution_count": 21,
          "metadata": {},
          "output_type": "execute_result"
        }
      ],
      "source": [
        "#3\n",
        "np.abs(f[xv**2 + yv**2 > 0.5**2].ravel())"
      ]
    },
    {
      "cell_type": "code",
      "execution_count": null,
      "id": "bdb9f1fa",
      "metadata": {
        "id": "bdb9f1fa"
      },
      "outputs": [],
      "source": [
        "x = np.linspace(0, 10, 1000)\n",
        "y = np.linspace(0, 10, 1000)"
      ]
    },
    {
      "cell_type": "code",
      "execution_count": null,
      "id": "e1db58bb",
      "metadata": {
        "id": "e1db58bb"
      },
      "outputs": [],
      "source": [
        "xv , yv = np.meshgrid(x,y)"
      ]
    },
    {
      "cell_type": "code",
      "execution_count": null,
      "id": "2c7149ef",
      "metadata": {
        "id": "2c7149ef"
      },
      "outputs": [],
      "source": [
        "zv = xv**2 + yv**2"
      ]
    },
    {
      "cell_type": "code",
      "execution_count": null,
      "id": "3ecbf10a",
      "metadata": {
        "id": "3ecbf10a",
        "outputId": "b2abeff8-29db-4db4-c254-43d704004ebf"
      },
      "outputs": [
        {
          "data": {
            "text/plain": [
              "<matplotlib.colorbar.Colorbar at 0x2321e5fafd0>"
            ]
          },
          "execution_count": 25,
          "metadata": {},
          "output_type": "execute_result"
        },
        {
          "data": {
            "image/png": "[encoded data removed]",
            "text/plain": [
              "<Figure size 432x288 with 2 Axes>"
            ]
          },
          "metadata": {
            "needs_background": "light"
          },
          "output_type": "display_data"
        }
      ],
      "source": [
        "plt.contourf(xv, yv, zv, levels=20)\n",
        "plt.colorbar()"
      ]
    },
    {
      "cell_type": "markdown",
      "id": "0ae82b90",
      "metadata": {
        "id": "0ae82b90"
      },
      "source": [
        "# Finind  Eigenvalues"
      ]
    },
    {
      "cell_type": "code",
      "execution_count": null,
      "id": "15849d91",
      "metadata": {
        "id": "15849d91"
      },
      "outputs": [],
      "source": [
        "A = np.array([[4,2,2],[2,4,2],[2,2,4]])"
      ]
    },
    {
      "cell_type": "code",
      "execution_count": null,
      "id": "672c1bf0",
      "metadata": {
        "id": "672c1bf0"
      },
      "outputs": [],
      "source": [
        "w , v = np.linalg.eig(A)"
      ]
    },
    {
      "cell_type": "code",
      "execution_count": null,
      "id": "f5e0c537",
      "metadata": {
        "id": "f5e0c537",
        "outputId": "5622371f-a7a3-4efb-f2fe-9326dff8361f"
      },
      "outputs": [
        {
          "data": {
            "text/plain": [
              "array([[-0.81649658,  0.57735027, -0.23513651],\n",
              "       [ 0.40824829,  0.57735027, -0.55958248],\n",
              "       [ 0.40824829,  0.57735027,  0.79471899]])"
            ]
          },
          "execution_count": 28,
          "metadata": {},
          "output_type": "execute_result"
        }
      ],
      "source": [
        "v"
      ]
    },
    {
      "cell_type": "code",
      "execution_count": null,
      "id": "aa0357a6",
      "metadata": {
        "id": "aa0357a6",
        "outputId": "4f8a65fd-12fe-4a7d-d17a-f7e1b5ffa751"
      },
      "outputs": [
        {
          "data": {
            "text/plain": [
              "array([-0.81649658,  0.40824829,  0.40824829])"
            ]
          },
          "execution_count": 29,
          "metadata": {},
          "output_type": "execute_result"
        }
      ],
      "source": [
        "v1 = v[:,0]\n",
        "v1"
      ]
    },
    {
      "cell_type": "code",
      "execution_count": null,
      "id": "0fadc86f",
      "metadata": {
        "id": "0fadc86f",
        "outputId": "8e049529-f396-48b2-d99d-a4332b5bc626"
      },
      "outputs": [
        {
          "data": {
            "text/plain": [
              "array([-1.63299316,  0.81649658,  0.81649658])"
            ]
          },
          "execution_count": 30,
          "metadata": {},
          "output_type": "execute_result"
        }
      ],
      "source": [
        "A@v1"
      ]
    },
    {
      "cell_type": "code",
      "execution_count": null,
      "id": "91e5ec32",
      "metadata": {
        "id": "91e5ec32",
        "outputId": "c888d5d1-0f08-4c65-c604-752be1bfa635"
      },
      "outputs": [
        {
          "data": {
            "text/plain": [
              "array([-1.63299316,  0.81649658,  0.81649658])"
            ]
          },
          "execution_count": 31,
          "metadata": {},
          "output_type": "execute_result"
        }
      ],
      "source": [
        "w[0] * v1"
      ]
    },
    {
      "cell_type": "markdown",
      "id": "410a1c28",
      "metadata": {
        "id": "410a1c28"
      },
      "source": [
        "# Example 4:"
      ]
    },
    {
      "cell_type": "code",
      "execution_count": null,
      "id": "8ebcbfd2",
      "metadata": {
        "id": "8ebcbfd2",
        "outputId": "82228fbe-1753-4ee2-b45d-9eeb257d58f6"
      },
      "outputs": [
        {
          "data": {
            "text/plain": [
              "array([ 0.78378378,  0.03603604, -0.67567568,  0.36036036])"
            ]
          },
          "execution_count": 32,
          "metadata": {},
          "output_type": "execute_result"
        }
      ],
      "source": [
        "A = np.array([[3,2,3,10],[2,-2,5,8],[3,3,4,9],[3,4,-3,-7]])\n",
        "c = np.array([4,1,3,2])\n",
        "np.linalg.solve(A,c)"
      ]
    },
    {
      "cell_type": "markdown",
      "id": "b4fa8a4a",
      "metadata": {
        "id": "b4fa8a4a"
      },
      "source": [
        "# Example 5: tougher"
      ]
    },
    {
      "cell_type": "code",
      "execution_count": null,
      "id": "2301b20f",
      "metadata": {
        "id": "2301b20f"
      },
      "outputs": [],
      "source": [
        "#1\n",
        "z = np.linspace(0, 4*np.pi, 100)\n",
        "t = np.linspace(0, 10 ,100)\n",
        "\n",
        "tv , zv = np.meshgrid(t,z)\n",
        "\n",
        "Ex = np.cos(zv-tv)\n",
        "Ey = 2*np.cos(zv-tv + np.pi/2)\n",
        "Ez = 0*tv"
      ]
    },
    {
      "cell_type": "code",
      "execution_count": null,
      "id": "6434710c",
      "metadata": {
        "id": "6434710c",
        "outputId": "d6e4a593-5300-4906-a8d7-651b65d5037e"
      },
      "outputs": [
        {
          "data": {
            "text/plain": [
              "[<matplotlib.lines.Line2D at 0x2321e69c370>]"
            ]
          },
          "execution_count": 34,
          "metadata": {},
          "output_type": "execute_result"
        },
        {
          "data": {
            "image/png": "[encoded data removed]",
            "text/plain": [
              "<Figure size 432x288 with 1 Axes>"
            ]
          },
          "metadata": {
            "needs_background": "light"
          },
          "output_type": "display_data"
        }
      ],
      "source": [
        "plt.plot(t, Ex[0])"
      ]
    },
    {
      "cell_type": "code",
      "execution_count": null,
      "id": "c3a1644e",
      "metadata": {
        "id": "c3a1644e"
      },
      "outputs": [],
      "source": [
        "E = np.array([Ex, Ey, Ez])\n",
        "E = np.swapaxes(E, 0, -1)"
      ]
    },
    {
      "cell_type": "code",
      "execution_count": null,
      "id": "93bbd8dc",
      "metadata": {
        "id": "93bbd8dc"
      },
      "outputs": [],
      "source": [
        "B = np.cross(np.array([0,0,1]), E)"
      ]
    },
    {
      "cell_type": "code",
      "execution_count": null,
      "id": "7f40bf9b",
      "metadata": {
        "id": "7f40bf9b"
      },
      "outputs": [],
      "source": [
        "B = np.swapaxes(B, 0, -1)"
      ]
    },
    {
      "cell_type": "code",
      "execution_count": null,
      "id": "624187fd",
      "metadata": {
        "id": "624187fd",
        "outputId": "ff14e6f4-ee63-424a-ea1b-efe661546180"
      },
      "outputs": [
        {
          "data": {
            "text/plain": [
              "[<matplotlib.lines.Line2D at 0x2321e6ffe50>]"
            ]
          },
          "execution_count": 38,
          "metadata": {},
          "output_type": "execute_result"
        },
        {
          "data": {
            "image/png": "[encoded data removed]",
            "text/plain": [
              "<Figure size 432x288 with 1 Axes>"
            ]
          },
          "metadata": {
            "needs_background": "light"
          },
          "output_type": "display_data"
        }
      ],
      "source": [
        "Bx, By, Bz = B\n",
        "plt.plot(t, Ey[0])\n",
        "plt.plot(t, Bx[0])"
      ]
    },
    {
      "cell_type": "code",
      "execution_count": null,
      "id": "910c37e8",
      "metadata": {
        "id": "910c37e8"
      },
      "outputs": [],
      "source": [
        "N = 1000\n",
        "x = np.linspace(0, 1, N+1)\n",
        "dx = x[1]-x[0]"
      ]
    },
    {
      "cell_type": "code",
      "execution_count": null,
      "id": "77565da7",
      "metadata": {
        "id": "77565da7"
      },
      "outputs": [],
      "source": [
        "main_diag = -2*np.ones(N-1)\n",
        "off_diag = np.ones(N-2)\n",
        "derivative_matrix = (np.diag(main_diag) + np.diag(off_diag, -1) + + np.diag(off_diag, 1))/dx**2\n",
        "x2_matrix = np.diag((10*x[1:-1])**2)"
      ]
    },
    {
      "cell_type": "code",
      "execution_count": null,
      "id": "0f4e43c7",
      "metadata": {
        "id": "0f4e43c7",
        "outputId": "1ee663a8-cdea-4044-b576-8946433f9599"
      },
      "outputs": [
        {
          "data": {
            "text/plain": [
              "array([[0., 1., 0., ..., 0., 0., 0.],\n",
              "       [0., 0., 1., ..., 0., 0., 0.],\n",
              "       [0., 0., 0., ..., 0., 0., 0.],\n",
              "       ...,\n",
              "       [0., 0., 0., ..., 0., 1., 0.],\n",
              "       [0., 0., 0., ..., 0., 0., 1.],\n",
              "       [0., 0., 0., ..., 0., 0., 0.]])"
            ]
          },
          "execution_count": 41,
          "metadata": {},
          "output_type": "execute_result"
        }
      ],
      "source": [
        "np.diag(off_diag, 1)"
      ]
    },
    {
      "cell_type": "code",
      "execution_count": null,
      "id": "cca48c8e",
      "metadata": {
        "id": "cca48c8e"
      },
      "outputs": [],
      "source": [
        ""
      ]
    },
    {
      "cell_type": "code",
      "execution_count": null,
      "id": "efcef35b",
      "metadata": {
        "id": "efcef35b"
      },
      "outputs": [],
      "source": [
        ""
      ]
    },
    {
      "cell_type": "code",
      "execution_count": null,
      "id": "5eed8b03",
      "metadata": {
        "id": "5eed8b03"
      },
      "outputs": [],
      "source": [
        ""
      ]
    },
    {
      "cell_type": "code",
      "execution_count": null,
      "id": "6d40d4d1",
      "metadata": {
        "id": "6d40d4d1"
      },
      "outputs": [],
      "source": [
        ""
      ]
    }
  ],
  "metadata": {
    "kernelspec": {
      "display_name": "Python 3 (ipykernel)",
      "language": "python",
      "name": "python3"
    },
    "language_info": {
      "codemirror_mode": {
        "name": "ipython",
        "version": 3
      },
      "file_extension": ".py",
      "mimetype": "text/x-python",
      "name": "python",
      "nbconvert_exporter": "python",
      "pygments_lexer": "ipython3",
      "version": "3.9.7"
    },
    "colab": {
      "name": "ِDDG ok.ipynb",
      "provenance": [],
      "include_colab_link": true
    }
  },
  "nbformat": 4,
  "nbformat_minor": 5
}