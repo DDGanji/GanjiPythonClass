{
  "cells": [
    {
      "cell_type": "markdown",
      "metadata": {
        "id": "view-in-github",
        "colab_type": "text"
      },
      "source": [
        "<a href=\"https://colab.research.google.com/github/DDGanji/GanjiPythonClass/blob/main/pde.ipynb\" target=\"_parent\"><img src=\"https://colab.research.google.com/assets/colab-badge.svg\" alt=\"Open In Colab\"/></a>"
      ]
    },
    {
      "cell_type": "code",
      "execution_count": 3,
      "id": "09165438",
      "metadata": {
        "colab": {
          "base_uri": "https://localhost:8080/"
        },
        "id": "09165438",
        "outputId": "f2c5c9cb-bed6-42ff-986d-967d7720820e"
      },
      "outputs": [
        {
          "output_type": "stream",
          "name": "stdout",
          "text": [
            "Looking in indexes: https://pypi.org/simple, https://us-python.pkg.dev/colab-wheels/public/simple/\n",
            "Collecting gekko\n",
            "  Downloading gekko-1.0.4-py3-none-any.whl (14.1 MB)\n",
            "\u001b[K     |████████████████████████████████| 14.1 MB 15.3 MB/s \n",
            "\u001b[?25hRequirement already satisfied: numpy>=1.8 in /usr/local/lib/python3.7/dist-packages (from gekko) (1.21.6)\n",
            "Installing collected packages: gekko\n",
            "Successfully installed gekko-1.0.4\n"
          ]
        }
      ],
      "source": [
        " pip install gekko"
      ]
    },
    {
      "cell_type": "code",
      "execution_count": 4,
      "id": "e015344b",
      "metadata": {
        "colab": {
          "base_uri": "https://localhost:8080/",
          "height": 1000
        },
        "id": "e015344b",
        "outputId": "fb7eef83-2592-4df5-e6bd-f9607a28585c"
      },
      "outputs": [
        {
          "output_type": "stream",
          "name": "stdout",
          "text": [
            "apm 34.90.136.189_gk_model0 <br><pre> ----------------------------------------------------------------\n",
            " APMonitor, Version 1.0.1\n",
            " APMonitor Optimization Suite\n",
            " ----------------------------------------------------------------\n",
            " \n",
            " \n",
            " --------- APM Model Size ------------\n",
            " Each time step contains\n",
            "   Objects      :            0\n",
            "   Constants    :            0\n",
            "   Variables    :          101\n",
            "   Intermediates:            0\n",
            "   Connections  :            0\n",
            "   Equations    :          100\n",
            "   Residuals    :          100\n",
            " \n",
            " Number of state variables:          20000\n",
            " Number of total equations: -        20000\n",
            " Number of slack variables: -            0\n",
            " ---------------------------------------\n",
            " Degrees of freedom       :              0\n",
            " \n",
            " **********************************************\n",
            " Dynamic Simulation with Interior Point Solver\n",
            " **********************************************\n",
            "  \n",
            "  \n",
            " Info: Exact Hessian\n",
            "\n",
            "******************************************************************************\n",
            "This program contains Ipopt, a library for large-scale nonlinear optimization.\n",
            " Ipopt is released as open source code under the Eclipse Public License (EPL).\n",
            "         For more information visit http://projects.coin-or.org/Ipopt\n",
            "******************************************************************************\n",
            "\n",
            "This is Ipopt version 3.12.10, running with linear solver ma57.\n",
            "\n",
            "Number of nonzeros in equality constraint Jacobian...:    69700\n",
            "Number of nonzeros in inequality constraint Jacobian.:        0\n",
            "Number of nonzeros in Lagrangian Hessian.............:        0\n",
            "\n",
            "Total number of variables............................:    20000\n",
            "                     variables with only lower bounds:        0\n",
            "                variables with lower and upper bounds:    20000\n",
            "                     variables with only upper bounds:        0\n",
            "Total number of equality constraints.................:    20000\n",
            "Total number of inequality constraints...............:        0\n",
            "        inequality constraints with only lower bounds:        0\n",
            "   inequality constraints with lower and upper bounds:        0\n",
            "        inequality constraints with only upper bounds:        0\n",
            "\n",
            "iter    objective    inf_pr   inf_du lg(mu)  ||d||  lg(rg) alpha_du alpha_pr  ls\n",
            "   0  0.0000000e+00 1.56e+03 0.00e+00   0.0 0.00e+00    -  0.00e+00 0.00e+00   0\n",
            "Reallocating memory for MA57: lfact (2643695)\n",
            "Reallocating memory for MA57: lfact (2786128)\n",
            "   1  0.0000000e+00 1.37e+04 1.13e+01  16.6 8.61e+01    -  9.98e-01 1.00e+00h  1\n",
            "   2  0.0000000e+00 3.27e-01 2.23e-14   7.0 8.93e+01    -  9.90e-01 1.00e+00h  1\n",
            "   3  0.0000000e+00 1.09e-07 5.53e-24   8.9 1.78e-02    -  9.98e-01 1.00e+00h  1\n",
            "\n",
            "Number of Iterations....: 3\n",
            "\n",
            "                                   (scaled)                 (unscaled)\n",
            "Objective...............:   0.0000000000000000e+00    0.0000000000000000e+00\n",
            "Dual infeasibility......:   0.0000000000000000e+00    0.0000000000000000e+00\n",
            "Constraint violation....:   1.1760213854851259e-08    1.0936465306976562e-07\n",
            "Complementarity.........:   0.0000000000000000e+00    0.0000000000000000e+00\n",
            "Overall NLP error.......:   1.1760213854851259e-08    1.0936465306976562e-07\n",
            "\n",
            "\n",
            "Number of objective function evaluations             = 4\n",
            "Number of objective gradient evaluations             = 4\n",
            "Number of equality constraint evaluations            = 4\n",
            "Number of inequality constraint evaluations          = 0\n",
            "Number of equality constraint Jacobian evaluations   = 4\n",
            "Number of inequality constraint Jacobian evaluations = 0\n",
            "Number of Lagrangian Hessian evaluations             = 3\n",
            "Total CPU secs in IPOPT (w/o function evaluations)   =      2.277\n",
            "Total CPU secs in NLP function evaluations           =      0.566\n",
            "\n",
            "EXIT: Optimal Solution Found.\n",
            " \n",
            " The solution was found.\n",
            " \n",
            " The final value of the objective function is   0.000000000000000E+000\n",
            " \n",
            " ---------------------------------------------------\n",
            " Solver         :  IPOPT (v3.12)\n",
            " Solution time  :    3.05739999999059      sec\n",
            " Objective      :   0.000000000000000E+000\n",
            " Successful solution\n",
            " ---------------------------------------------------\n",
            " \n"
          ]
        },
        {
          "output_type": "display_data",
          "data": {
            "text/plain": [
              "<Figure size 432x288 with 1 Axes>"
            ],
            "image/png": "[encoded data removed]"
          },
          "metadata": {
            "needs_background": "light"
          }
        }
      ],
      "source": [
        "# The parabolic PDE equation describes the evolution of temperature\n",
        "#  for the interior region of the rod. This model is modified to make\n",
        "#  one end of the rod fixed and the other temperature at the end of the\n",
        "#  rod calculated.\n",
        "import numpy as np\n",
        "from gekko import GEKKO\n",
        "import matplotlib.pyplot as plt\n",
        "\n",
        "# Steel rod temperature profile\n",
        "# Diameter = 3 cm\n",
        "# Length = 10 cm\n",
        "seg      = 100              # number of segments\n",
        "T_melt   = 1426             # melting temperature of H13 steel\n",
        "pi       = 3.14159          # pi\n",
        "d        = 3 / 100          # rod diameter (m)\n",
        "L        = 10 / 100         # rod length (m)\n",
        "L_seg    = L / seg          # length of a segment (m)\n",
        "A        = pi * d**2 / 4    # rod cross-sectional area (m)\n",
        "As       = pi * d * L_seg   # surface heat transfer area (m^2)\n",
        "heff     = 5.8              # heat transfer coeff (W/(m^2*K))\n",
        "keff     = 28.6             # thermal conductivity in H13 steel (W/m-K)\n",
        "rho      = 7760             # density of H13 rod steel (kg/m^3)\n",
        "cp       = 460              # heat capacity of H13 steel (J/kg-K)\n",
        "Ts       = 23               # temperature of the surroundings (°C)\n",
        "c2k      = 273.15           # Celcius to Kelvin\n",
        "\n",
        "m = GEKKO()  # create GEKKO model\n",
        "\n",
        "tf = 3000\n",
        "nt = int(tf/30) + 1\n",
        "m.time = np.linspace(0,tf,nt)\n",
        "Th = m.MV(ub=T_melt)        # heater temperature (°C)    \n",
        "Th.value = np.ones(nt) * 23 # start at room temperature\n",
        "Th.value[10:] = 100         # step at 300 sec\n",
        "\n",
        "T = [m.Var(23) for i in range(seg)] # temperature of the segments (°C)\n",
        "\n",
        "# Energy balance for the rod (segments)\n",
        "# accumulation =\n",
        "#    (heat gained from upper segment)\n",
        "#  - (heat lost to lower segment)\n",
        "#  - (heat lost to surroundings)\n",
        "# Units check\n",
        "# kg/m^3 * m^2 * m * J/kg-K * K/sec =\n",
        "#     W/m-K   * m^2 *  K / m\n",
        "#  -  W/m-K   * m^2 *  K / m\n",
        "#  -  W/m^2-K * m^2 *  K\n",
        "\n",
        "# first segment\n",
        "m.Equation(rho*A*L_seg*cp*T[0].dt() == \\\n",
        "               keff*A*(Th-T[0])/L_seg \\\n",
        "             - keff*A*(T[0]-T[1])/L_seg \\\n",
        "             - heff*As*(T[0]-Ts))\n",
        "# middle segments\n",
        "m.Equations([rho*A*L_seg*cp*T[i].dt() == \\\n",
        "               keff*A*(T[i-1]-T[i])/L_seg \\\n",
        "             - keff*A*(T[i]-T[i+1])/L_seg \\\n",
        "             - heff*As*(T[i]-Ts) for i in range(1,seg-1)])\n",
        "# last segment\n",
        "m.Equation(rho*A*L_seg*cp*T[seg-1].dt() == \\\n",
        "             keff*A*(T[seg-2]-T[seg-1])/L_seg \\\n",
        "           - heff*(As+A)*(T[seg-1]-Ts))\n",
        "\n",
        "# simulation\n",
        "m.options.IMODE = 4\n",
        "m.solve()\n",
        "\n",
        "# plot results\n",
        "plt.figure()\n",
        "tm = m.time / 60.0\n",
        "plt.plot(tm,Th.value,'r-',label=r'$T_{heater}\\,(^oC)$')\n",
        "plt.plot(tm,T[5].value,'k--',label=r'$T_5\\,(^oC)$')\n",
        "plt.plot(tm,T[15].value,'k:',label=r'$T_{15}\\,(^oC)$')\n",
        "plt.plot(tm,T[25].value,'k:',label=r'$T_{25}\\,(^oC)$')\n",
        "plt.plot(tm,T[45].value,'k-.',label=r'$T_{45}\\,(^oC)$')\n",
        "plt.plot(tm,T[-1].value,'b-',label=r'$T_{tip}\\,(^oC)$')\n",
        "plt.ylabel(r'$T\\,(^oC$)')\n",
        "plt.xlabel('Time (min)')\n",
        "plt.xlim([0,50])\n",
        "plt.legend(loc=4)\n",
        "plt.show()"
      ]
    },
    {
      "cell_type": "code",
      "execution_count": null,
      "id": "a7c6fb51",
      "metadata": {
        "id": "a7c6fb51"
      },
      "outputs": [],
      "source": [
        ""
      ]
    },
    {
      "cell_type": "code",
      "execution_count": null,
      "id": "4f200e1c",
      "metadata": {
        "id": "4f200e1c"
      },
      "outputs": [],
      "source": [
        ""
      ]
    }
  ],
  "metadata": {
    "kernelspec": {
      "display_name": "Python 3 (ipykernel)",
      "language": "python",
      "name": "python3"
    },
    "language_info": {
      "codemirror_mode": {
        "name": "ipython",
        "version": 3
      },
      "file_extension": ".py",
      "mimetype": "text/x-python",
      "name": "python",
      "nbconvert_exporter": "python",
      "pygments_lexer": "ipython3",
      "version": "3.9.7"
    },
    "colab": {
      "name": "pde.ipynb",
      "provenance": [],
      "include_colab_link": true
    }
  },
  "nbformat": 4,
  "nbformat_minor": 5
}