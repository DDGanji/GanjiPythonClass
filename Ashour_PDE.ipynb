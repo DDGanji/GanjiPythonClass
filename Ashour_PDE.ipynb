{
  "cells": [
    {
      "cell_type": "markdown",
      "metadata": {
        "id": "view-in-github",
        "colab_type": "text"
      },
      "source": [
        "<a href=\"https://colab.research.google.com/github/DDGanji/GanjiPythonClass/blob/main/Ashour_PDE.ipynb\" target=\"_parent\"><img src=\"https://colab.research.google.com/assets/colab-badge.svg\" alt=\"Open In Colab\"/></a>"
      ]
    },
    {
      "cell_type": "code",
      "execution_count": null,
      "id": "388c79cc",
      "metadata": {
        "id": "388c79cc",
        "outputId": "0a15743d-c2af-4f55-c037-02fdd5d6f2d3"
      },
      "outputs": [
        {
          "name": "stdout",
          "output_type": "stream",
          "text": [
            "please wait for some time which solving eq\n",
            "iteration is fished\n"
          ]
        },
        {
          "data": {
            "image/png": "[encoded data removed]",
            "text/plain": [
              "<Figure size 432x288 with 2 Axes>"
            ]
          },
          "metadata": {
            "needs_background": "light"
          },
          "output_type": "display_data"
        }
      ],
      "source": [
        "\n",
        "# Equation:  d^2/dx^2=d^2T/dy^2\n",
        "\n",
        "import numpy as np\n",
        "import matplotlib.pyplot as plt\n",
        "\n",
        "# Maximum iteration (حداکثر تکرار)\n",
        "maxIter = 500\n",
        "\n",
        "# leght X and Y\n",
        "lenX = 10\n",
        "lenY =10\n",
        "\n",
        "# The amount of delta\n",
        "delta = 1\n",
        "\n",
        "# boundry condition\n",
        "Ttop = 500\n",
        "Tbottom = 0\n",
        "Tleft = 0\n",
        "Tright = 0\n",
        "\n",
        "# Initial temperature\n",
        "Tinital = 30\n",
        "\n",
        "#\"Jet\" is a type of coloring that is taken from a library and starts with blue\n",
        "colorinterpolation = 50\n",
        "colourMap = plt.cm.jet\n",
        "\n",
        "X, Y = np.meshgrid (np.arange(0,lenX), np.arange(0,lenY))\n",
        "\n",
        "T = np.empty((lenX, lenY))\n",
        "T.fill(Tinital)\n",
        "\n",
        "T[(lenY-1):, :] = Ttop\n",
        "T[:1,:] = Tbottom\n",
        "T[:,(lenX-1):] = Tright\n",
        "T[:,:1] = Tleft\n",
        "\n",
        "# print (T[(lenY-1):, :], T[:1,:], T[:,(lenX-1):], T[:,:1])\n",
        "\n",
        "print(\"please wait for some time which solving eq\")\n",
        "for interation in range (0,maxIter):\n",
        "    for i in range(1, lenX-1, delta):\n",
        "        for j in range(1, lenX-1, delta):\n",
        "            T[i, j] = .25*(T[i+1][j]+T[i-1][j]+T[i][j+1]+T[i][j-1])\n",
        "            \n",
        "print(\"iteration is fished\")\n",
        "\n",
        "plt.title(\"count of temperature of 2D plot\")\n",
        "\n",
        "plt.contourf(X, Y, T, colorinterpolation, cmap=colourMap)\n",
        "\n",
        "plt.colorbar()\n",
        "plt.show()"
      ]
    },
    {
      "cell_type": "code",
      "execution_count": null,
      "id": "29782cfe",
      "metadata": {
        "id": "29782cfe"
      },
      "outputs": [],
      "source": [
        ""
      ]
    }
  ],
  "metadata": {
    "kernelspec": {
      "display_name": "Python 3 (ipykernel)",
      "language": "python",
      "name": "python3"
    },
    "language_info": {
      "codemirror_mode": {
        "name": "ipython",
        "version": 3
      },
      "file_extension": ".py",
      "mimetype": "text/x-python",
      "name": "python",
      "nbconvert_exporter": "python",
      "pygments_lexer": "ipython3",
      "version": "3.9.7"
    },
    "colab": {
      "name": "Ashour PDE.ipynb",
      "provenance": [],
      "include_colab_link": true
    }
  },
  "nbformat": 4,
  "nbformat_minor": 5
}