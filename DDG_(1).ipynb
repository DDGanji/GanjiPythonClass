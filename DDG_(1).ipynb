{
  "cells": [
    {
      "cell_type": "markdown",
      "metadata": {
        "id": "view-in-github",
        "colab_type": "text"
      },
      "source": [
        "<a href=\"https://colab.research.google.com/github/DDGanji/GanjiPythonClass/blob/main/DDG_(1).ipynb\" target=\"_parent\"><img src=\"https://colab.research.google.com/assets/colab-badge.svg\" alt=\"Open In Colab\"/></a>"
      ]
    },
    {
      "cell_type": "code",
      "execution_count": null,
      "id": "6388ff6b",
      "metadata": {
        "id": "6388ff6b"
      },
      "outputs": [],
      "source": [
        "import numpy as np\n",
        "import matplotlib.pyplot as plt"
      ]
    },
    {
      "cell_type": "markdown",
      "id": "1a0ce0c0",
      "metadata": {
        "id": "1a0ce0c0"
      },
      "source": [
        "# Creating Arraye"
      ]
    },
    {
      "cell_type": "code",
      "execution_count": null,
      "id": "59a7dfea",
      "metadata": {
        "id": "59a7dfea",
        "outputId": "73db819c-e657-441e-c1f5-709ef964c336"
      },
      "outputs": [
        {
          "data": {
            "text/plain": [
              "array([3, 5, 7, 3])"
            ]
          },
          "execution_count": 2,
          "metadata": {},
          "output_type": "execute_result"
        }
      ],
      "source": [
        "a1 = np.array([3,5,7,3])\n",
        "a1\n"
      ]
    },
    {
      "cell_type": "code",
      "execution_count": null,
      "id": "de01eae4",
      "metadata": {
        "id": "de01eae4",
        "outputId": "d23d4aea-0abd-4586-d66b-037cce7e98ec"
      },
      "outputs": [
        {
          "data": {
            "text/plain": [
              "array([3, 5, 7, 3])"
            ]
          },
          "execution_count": 3,
          "metadata": {},
          "output_type": "execute_result"
        }
      ],
      "source": [
        "a1"
      ]
    },
    {
      "cell_type": "code",
      "execution_count": null,
      "id": "6bc2a0de",
      "metadata": {
        "id": "6bc2a0de"
      },
      "outputs": [],
      "source": [
        "a2 = np.zeros(10)"
      ]
    },
    {
      "cell_type": "code",
      "execution_count": null,
      "id": "ea4d2039",
      "metadata": {
        "id": "ea4d2039"
      },
      "outputs": [],
      "source": [
        "a1 = np.array([3,5,7,3])\n",
        "a2 = np.zeros(10)\n",
        "a3 = np.ones(10)\n",
        "a4 = np.random.random(10)\n",
        "a5 = np.random.randn(10)\n",
        "a6 = np.linspace(0, 10, 100)\n",
        "a7 = np.arange(0, 10 , 0.02)"
      ]
    },
    {
      "cell_type": "markdown",
      "id": "79881dcc",
      "metadata": {
        "id": "79881dcc"
      },
      "source": [
        "# Array Operations"
      ]
    },
    {
      "cell_type": "code",
      "execution_count": null,
      "id": "5340402c",
      "metadata": {
        "id": "5340402c",
        "outputId": "0e4a82b3-fc99-4a7a-d4aa-75c26442274c"
      },
      "outputs": [
        {
          "data": {
            "text/plain": [
              "array([3, 5, 7, 3])"
            ]
          },
          "execution_count": 6,
          "metadata": {},
          "output_type": "execute_result"
        }
      ],
      "source": [
        "a1"
      ]
    },
    {
      "cell_type": "code",
      "execution_count": null,
      "id": "5044cea7",
      "metadata": {
        "id": "5044cea7",
        "outputId": "2b8cff99-49d6-43a0-a10e-7a5997378d9b"
      },
      "outputs": [
        {
          "data": {
            "text/plain": [
              "array([ 6, 10, 14,  6])"
            ]
          },
          "execution_count": 7,
          "metadata": {},
          "output_type": "execute_result"
        }
      ],
      "source": [
        "2*a1"
      ]
    },
    {
      "cell_type": "code",
      "execution_count": null,
      "id": "4aec082a",
      "metadata": {
        "id": "4aec082a",
        "outputId": "f8f4f73b-edd3-4868-9eb8-70cb0eba1648"
      },
      "outputs": [
        {
          "data": {
            "text/plain": [
              "array([0.33333333, 0.2       , 0.14285714, 0.33333333])"
            ]
          },
          "execution_count": 8,
          "metadata": {},
          "output_type": "execute_result"
        }
      ],
      "source": [
        "1/a1"
      ]
    },
    {
      "cell_type": "code",
      "execution_count": null,
      "id": "cc0ad0e2",
      "metadata": {
        "id": "cc0ad0e2",
        "outputId": "be96cd76-18b6-426f-99dc-a7964372df41"
      },
      "outputs": [
        {
          "data": {
            "text/plain": [
              "array([5.33333333, 7.2       , 9.14285714, 5.33333333])"
            ]
          },
          "execution_count": 9,
          "metadata": {},
          "output_type": "execute_result"
        }
      ],
      "source": [
        "1/a1+a1+2"
      ]
    },
    {
      "cell_type": "code",
      "execution_count": null,
      "id": "7f43005e",
      "metadata": {
        "id": "7f43005e"
      },
      "outputs": [],
      "source": [
        "x = np.linspace(0, 1, 100)"
      ]
    },
    {
      "cell_type": "code",
      "execution_count": null,
      "id": "953d71d7",
      "metadata": {
        "id": "953d71d7",
        "outputId": "df8e2685-6cdf-4087-c924-a1df33574511"
      },
      "outputs": [
        {
          "data": {
            "text/plain": [
              "[<matplotlib.lines.Line2D at 0x1f7bc390f40>]"
            ]
          },
          "execution_count": 11,
          "metadata": {},
          "output_type": "execute_result"
        },
        {
          "data": {
            "image/png": "[encoded data removed]",
            "text/plain": [
              "<Figure size 432x288 with 1 Axes>"
            ]
          },
          "metadata": {
            "needs_background": "light"
          },
          "output_type": "display_data"
        }
      ],
      "source": [
        "plt.plot(x,x**2)"
      ]
    },
    {
      "cell_type": "markdown",
      "id": "4425bad1",
      "metadata": {
        "id": "4425bad1"
      },
      "source": [
        "# Array Indexing/Slicing"
      ]
    },
    {
      "cell_type": "code",
      "execution_count": null,
      "id": "5ef59522",
      "metadata": {
        "id": "5ef59522"
      },
      "outputs": [],
      "source": [
        "a1 = np.array([2,4,6,8,10])"
      ]
    },
    {
      "cell_type": "code",
      "execution_count": null,
      "id": "4bba938a",
      "metadata": {
        "id": "4bba938a",
        "outputId": "5246e048-66fe-4ed1-ce25-255ef615fe31"
      },
      "outputs": [
        {
          "data": {
            "text/plain": [
              "6"
            ]
          },
          "execution_count": 13,
          "metadata": {},
          "output_type": "execute_result"
        }
      ],
      "source": [
        "a1[2]"
      ]
    },
    {
      "cell_type": "code",
      "execution_count": null,
      "id": "56c4cf31",
      "metadata": {
        "id": "56c4cf31",
        "outputId": "cbb29f01-5d66-40b9-966c-7e3be17a2731"
      },
      "outputs": [
        {
          "data": {
            "text/plain": [
              "array([ 6,  8, 10])"
            ]
          },
          "execution_count": 14,
          "metadata": {},
          "output_type": "execute_result"
        }
      ],
      "source": [
        "a1[2:]"
      ]
    },
    {
      "cell_type": "code",
      "execution_count": null,
      "id": "1e341efe",
      "metadata": {
        "id": "1e341efe",
        "outputId": "0dfef327-ee3b-46b7-e8ff-18d895b6e263"
      },
      "outputs": [
        {
          "data": {
            "text/plain": [
              "array([ 8, 10])"
            ]
          },
          "execution_count": 15,
          "metadata": {},
          "output_type": "execute_result"
        }
      ],
      "source": [
        "a1[3:]"
      ]
    },
    {
      "cell_type": "code",
      "execution_count": null,
      "id": "de2bab01",
      "metadata": {
        "id": "de2bab01",
        "outputId": "5b55913f-570a-49c0-cb8f-24fb0b56e210"
      },
      "outputs": [
        {
          "data": {
            "text/plain": [
              "array([2, 4, 6, 8])"
            ]
          },
          "execution_count": 16,
          "metadata": {},
          "output_type": "execute_result"
        }
      ],
      "source": [
        "a1[:-1]"
      ]
    },
    {
      "cell_type": "code",
      "execution_count": null,
      "id": "d936929c",
      "metadata": {
        "id": "d936929c",
        "outputId": "3ba169d2-4d3c-4a54-e28a-60ce82c01b79"
      },
      "outputs": [
        {
          "data": {
            "text/plain": [
              "array([4, 6])"
            ]
          },
          "execution_count": 17,
          "metadata": {},
          "output_type": "execute_result"
        }
      ],
      "source": [
        "a1[1:-2]"
      ]
    },
    {
      "cell_type": "code",
      "execution_count": null,
      "id": "a8bc6928",
      "metadata": {
        "id": "a8bc6928",
        "outputId": "b2345eea-b112-4c88-82e5-05f3432d1b8b"
      },
      "outputs": [
        {
          "data": {
            "text/plain": [
              "array([ 4,  6,  8, 10])"
            ]
          },
          "execution_count": 18,
          "metadata": {},
          "output_type": "execute_result"
        }
      ],
      "source": [
        "a1[a1>3]"
      ]
    },
    {
      "cell_type": "code",
      "execution_count": null,
      "id": "f1fbd643",
      "metadata": {
        "id": "f1fbd643",
        "outputId": "fca7788f-5076-4d80-8750-48219f56f25f"
      },
      "outputs": [
        {
          "data": {
            "text/plain": [
              "[<matplotlib.lines.Line2D at 0x1f7bcb3aa00>]"
            ]
          },
          "execution_count": 19,
          "metadata": {},
          "output_type": "execute_result"
        },
        {
          "data": {
            "image/png": "[encoded data removed]",
            "text/plain": [
              "<Figure size 432x288 with 1 Axes>"
            ]
          },
          "metadata": {
            "needs_background": "light"
          },
          "output_type": "display_data"
        }
      ],
      "source": [
        "import numpy as np\n",
        "import matplotlib.pyplot as plt\n",
        "theta = np.linspace(0, 2*np.pi, 1000)\n",
        "r = 1+ 3/4 * np.sin(3*theta)\n",
        "x = r * np.cos(theta)\n",
        "y = r * np.sin(theta)\n",
        "plt.plot(x,y)"
      ]
    },
    {
      "cell_type": "markdown",
      "id": "931fb55b",
      "metadata": {
        "id": "931fb55b"
      },
      "source": [
        "# Example 1:"
      ]
    },
    {
      "cell_type": "code",
      "execution_count": null,
      "id": "20cbb357",
      "metadata": {
        "id": "20cbb357",
        "outputId": "1e64f0eb-0147-4b4c-8619-402c64644cf8"
      },
      "outputs": [
        {
          "data": {
            "text/plain": [
              "[<matplotlib.lines.Line2D at 0x1f7bcba9d30>]"
            ]
          },
          "execution_count": 20,
          "metadata": {},
          "output_type": "execute_result"
        },
        {
          "data": {
            "image/png": "[encoded data removed]",
            "text/plain": [
              "<Figure size 432x288 with 1 Axes>"
            ]
          },
          "metadata": {
            "needs_background": "light"
          },
          "output_type": "display_data"
        }
      ],
      "source": [
        "#1\n",
        "import numpy as np\n",
        "import matplotlib.pyplot as plt\n",
        "theta = np.linspace(0, 2*np.pi, 1000)\n",
        "r = 1+ 3/4 * np.sin(3*theta)\n",
        "x = r * np.cos(theta)\n",
        "y = r * np.sin(theta)\n",
        "plt.plot(x,y)"
      ]
    },
    {
      "cell_type": "raw",
      "id": "9f905972",
      "metadata": {
        "id": "9f905972"
      },
      "source": [
        "#1\n",
        "import numpy as np\n",
        "import matplotlib.pyplot as plt\n",
        " theta = np.linspace(0, 2*np.pi, 1000)\n",
        "   r = 1+ 3/4 * np.sin(3*theta)\n",
        "   x = r * np.cos(theta)\n",
        "   y = r * np.sin(theta)\n",
        "plt.plot(x,y)"
      ]
    },
    {
      "cell_type": "markdown",
      "id": "2c11900d",
      "metadata": {
        "id": "2c11900d"
      },
      "source": [
        "# Example 2:"
      ]
    },
    {
      "cell_type": "code",
      "execution_count": null,
      "id": "22024859",
      "metadata": {
        "id": "22024859"
      },
      "outputs": [],
      "source": [
        "kt = np.linspace(0, 3, 100)\n",
        "P = (1/(1+np.exp(-kt)))**4\n",
        "E = np.cumsum(P) * (kt[1] - kt[0])"
      ]
    },
    {
      "cell_type": "code",
      "execution_count": null,
      "id": "4f82ad7f",
      "metadata": {
        "id": "4f82ad7f",
        "outputId": "c3cf5131-be38-41c1-84d0-ac9c6547efaf"
      },
      "outputs": [
        {
          "data": {
            "text/plain": [
              "Text(0, 0.5, '$\\\\left(\\\\frac{k}{A \\\\sigma \\\\epsilon T_0^4}\\\\right) E(kt)$')"
            ]
          },
          "execution_count": 22,
          "metadata": {},
          "output_type": "execute_result"
        },
        {
          "data": {
            "image/png": "[encoded data removed]",
            "text/plain": [
              "<Figure size 432x288 with 1 Axes>"
            ]
          },
          "metadata": {
            "needs_background": "light"
          },
          "output_type": "display_data"
        }
      ],
      "source": [
        "plt.plot(kt, E)\n",
        "plt.xlabel('$kt$', fontsize=20)\n",
        "plt.ylabel(r'$\\left(\\frac{k}{A \\sigma \\epsilon T_0^4}\\right) E(kt)$', fontsize=20)"
      ]
    },
    {
      "cell_type": "code",
      "execution_count": null,
      "id": "84db44fc",
      "metadata": {
        "id": "84db44fc",
        "outputId": "f52e676f-b749-4937-b13d-ff2404cfaff3"
      },
      "outputs": [
        {
          "ename": "SyntaxError",
          "evalue": "invalid syntax (Temp/ipykernel_7792/698293400.py, line 2)",
          "output_type": "error",
          "traceback": [
            "\u001b[1;36m  File \u001b[1;32m\"C:\\Users\\Davood\\AppData\\Local\\Temp/ipykernel_7792/698293400.py\"\u001b[1;36m, line \u001b[1;32m2\u001b[0m\n\u001b[1;33m    P = (3.kt/(.11+np.exp(-kt)))**4\u001b[0m\n\u001b[1;37m           ^\u001b[0m\n\u001b[1;31mSyntaxError\u001b[0m\u001b[1;31m:\u001b[0m invalid syntax\n"
          ]
        }
      ],
      "source": [
        "kt = np.linspace(0, 3, 100)\n",
        "P = (3.kt/(.11+np.exp(-kt)))**4\n",
        "E = np.cumsum(P) * (kt[1] - kt[0])\n",
        "plt.plot(kt, E)"
      ]
    },
    {
      "cell_type": "code",
      "execution_count": null,
      "id": "cf808856",
      "metadata": {
        "id": "cf808856"
      },
      "outputs": [],
      "source": [
        ""
      ]
    },
    {
      "cell_type": "code",
      "execution_count": null,
      "id": "87fa5a0c",
      "metadata": {
        "id": "87fa5a0c"
      },
      "outputs": [],
      "source": [
        ""
      ]
    }
  ],
  "metadata": {
    "kernelspec": {
      "display_name": "Python 3 (ipykernel)",
      "language": "python",
      "name": "python3"
    },
    "language_info": {
      "codemirror_mode": {
        "name": "ipython",
        "version": 3
      },
      "file_extension": ".py",
      "mimetype": "text/x-python",
      "name": "python",
      "nbconvert_exporter": "python",
      "pygments_lexer": "ipython3",
      "version": "3.9.7"
    },
    "colab": {
      "name": "DDG (1).ipynb",
      "provenance": [],
      "include_colab_link": true
    }
  },
  "nbformat": 4,
  "nbformat_minor": 5
}