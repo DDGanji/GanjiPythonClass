{
  "cells": [
    {
      "cell_type": "markdown",
      "metadata": {
        "id": "view-in-github",
        "colab_type": "text"
      },
      "source": [
        "<a href=\"https://colab.research.google.com/github/DDGanji/GanjiPythonClass/blob/main/sole_ode.ipynb\" target=\"_parent\"><img src=\"https://colab.research.google.com/assets/colab-badge.svg\" alt=\"Open In Colab\"/></a>"
      ]
    },
    {
      "cell_type": "code",
      "execution_count": null,
      "id": "f44a59a7",
      "metadata": {
        "id": "f44a59a7",
        "outputId": "f88fedf8-24db-4cfe-b807-7b88f62401d1"
      },
      "outputs": [
        {
          "data": {
            "image/png": "[encoded data removed]",
            "text/plain": [
              "<Figure size 432x288 with 1 Axes>"
            ]
          },
          "metadata": {
            "needs_background": "light"
          },
          "output_type": "display_data"
        }
      ],
      "source": [
        "import numpy as np\n",
        "from scipy.integrate import odeint\n",
        "import matplotlib.pyplot as plt\n",
        "x0 = 100 # initial amount\n",
        "p = 5 # interest rate\n",
        "N = 44 # number of years\n",
        "x = np.zeros(N+1)\n",
        "x[0] = x0\n",
        "for n in range(N):\n",
        "  x[n+1] = x[n] + (p/100.0)*x[n]\n",
        "\n",
        "#for n in range(1,N+1):\n",
        "  # x[n] = x[n-1] + (p/100.0)*x[n-1]\n",
        "#for n in range(1,N+1):\n",
        "   # x[n+1] = x[n] + (p/100.0)*x[n]\n",
        "\n",
        "plt.plot(x, 'ro')\n",
        "plt.xlabel('year')\n",
        "plt.ylabel('amount')\n",
        "plt.show()"
      ]
    },
    {
      "cell_type": "code",
      "execution_count": null,
      "id": "35a17b91",
      "metadata": {
        "id": "35a17b91",
        "outputId": "298dbeff-9d4e-43bd-ed02-ddcabc14fd39"
      },
      "outputs": [
        {
          "data": {
            "image/png": "[encoded data removed]",
            "text/plain": [
              "<Figure size 432x288 with 1 Axes>"
            ]
          },
          "metadata": {
            "needs_background": "light"
          },
          "output_type": "display_data"
        }
      ],
      "source": [
        "import numpy as np\n",
        "import matplotlib.pyplot as plt\n",
        "x0 = 100 # initial population\n",
        "rho = 5 # growth rate in %\n",
        "R = 500 # max population (carrying capacity)\n",
        "N = 200 # number of years\n",
        "index_set = range(N+1)\n",
        "x = np.zeros(len(index_set))\n",
        "x[0] = x0\n",
        "for n in index_set[1:]:\n",
        "    x[n] = x[n-1] + (rho/100) *x[n-1]*(1 - x[n-1]/R)\n",
        "plt.plot(index_set, x)\n",
        "plt.xlabel('years')\n",
        "plt.ylabel('amount')\n",
        "plt.show()"
      ]
    },
    {
      "cell_type": "code",
      "execution_count": null,
      "id": "939b9db7",
      "metadata": {
        "id": "939b9db7"
      },
      "outputs": [],
      "source": [
        "def Newton(f, dfdx, x, epsilon=1.0E-7, max_n=100):\n",
        "    n = 0\n",
        "    while abs(f(x)) > epsilon and n <= max_n:\n",
        "      x = x - f(x)/dfdx(x)\n",
        "      n += 1\n",
        "      return x, n, f(x)\n"
      ]
    },
    {
      "cell_type": "code",
      "execution_count": null,
      "id": "a81fa073",
      "metadata": {
        "id": "a81fa073"
      },
      "outputs": [],
      "source": [
        "#du/dt=u and u0=1 "
      ]
    },
    {
      "cell_type": "code",
      "execution_count": null,
      "id": "378f51d8",
      "metadata": {
        "id": "378f51d8",
        "outputId": "d0345fc7-48d4-4e90-dac7-23cafd341464"
      },
      "outputs": [
        {
          "data": {
            "image/png": "[encoded data removed]",
            "text/plain": [
              "<Figure size 432x288 with 1 Axes>"
            ]
          },
          "metadata": {
            "needs_background": "light"
          },
          "output_type": "display_data"
        }
      ],
      "source": [
        "import numpy as np\n",
        "import matplotlib.pyplot as plt\n",
        "dt = 0.2\n",
        "U0 = 1\n",
        "T = 4\n",
        "N = int(T/dt)\n",
        "t = np.zeros(N+1)\n",
        "u = np.zeros(N+1)\n",
        "t[0] = 0\n",
        "u[0] = U0\n",
        "for n in range(N):\n",
        "    t[n+1] = t[n] + dt\n",
        "    u[n+1] = (1 + dt)*u[n]\n",
        "plt.plot(t,u)\n",
        "plt.show()"
      ]
    },
    {
      "cell_type": "code",
      "execution_count": null,
      "id": "acebeaff",
      "metadata": {
        "id": "acebeaff"
      },
      "outputs": [],
      "source": [
        ""
      ]
    },
    {
      "cell_type": "code",
      "execution_count": null,
      "id": "8254110a",
      "metadata": {
        "id": "8254110a"
      },
      "outputs": [],
      "source": [
        "def SEEIIR_model(u,t):\n",
        "    beta = 0.5; r_ia = 0.1; r_e2=1.25;\n",
        "    lmbda_1=0.33; lmbda_2=0.5; p_a=0.4; mu=0.2;\n",
        "    S, E1, E2, I, Ia, R = u\n",
        "    N = sum(u)\n",
        "    dS = -beta*S*I/N - r_ia*beta*S*Ia/N - r_e2*beta*S*E2/N\n",
        "    dE1 = beta*S*I/N + r_ia*beta*S*Ia/N + r_e2*beta*S*E2/N - lmbda_1*E1\n",
        "    dE2 = lmbda_1*(1-p_a)*E1 - lmbda_2*E2\n",
        "    dI = lmbda_2*E2 - mu*I\n",
        "    dIa = lmbda_1*p_a*E1 - mu*Ia\n",
        "    dR = mu*(I + Ia)\n",
        "    return [dS, dE1, dE2, dI, dIa, dR]\n",
        "\n"
      ]
    },
    {
      "cell_type": "code",
      "execution_count": null,
      "id": "d2fe0483",
      "metadata": {
        "id": "d2fe0483",
        "outputId": "4ecca227-e916-4d01-9bde-69891e91c10c"
      },
      "outputs": [
        {
          "ename": "SyntaxError",
          "evalue": "invalid syntax (Temp/ipykernel_7664/612239237.py, line 15)",
          "output_type": "error",
          "traceback": [
            "\u001b[1;36m  File \u001b[1;32m\"C:\\Users\\Davood\\AppData\\Local\\Temp/ipykernel_7664/612239237.py\"\u001b[1;36m, line \u001b[1;32m15\u001b[0m\n\u001b[1;33m    from ODESolver import\u001b[0m\n\u001b[1;37m                          ^\u001b[0m\n\u001b[1;31mSyntaxError\u001b[0m\u001b[1;31m:\u001b[0m invalid syntax\n"
          ]
        }
      ],
      "source": [
        "\n",
        "def SEEIIR_model(u,t):\n",
        "    beta = 0.5; r_ia = 0.1; r_e2=1.25;\n",
        "    lmbda_1=0.33; lmbda_2=0.5; p_a=0.4; mu=0.2;\n",
        "    S, E1, E2, I, Ia, R = u\n",
        "    N = sum(u)\n",
        "    dS = -beta*S*I/N - r_ia*beta*S*Ia/N - r_e2*beta*S*E2/N\n",
        "    dE1 = beta*S*I/N + r_ia*beta*S*Ia/N + r_e2*beta*S*E2/N - lmbda_1*E1\n",
        "    dE2 = lmbda_1*(1-p_a)*E1 - lmbda_2*E2\n",
        "    dI = lmbda_2*E2 - mu*I\n",
        "    dIa = lmbda_1*p_a*E1 - mu*Ia\n",
        "    dR = mu*(I + Ia)\n",
        "    return [dS, dE1, dE2, dI, dIa, dR]\n",
        "import numpy as np\n",
        "import matplotlib.pyplot as plt\n",
        "from ODESolver import \n",
        "S_0 = 5e6\n",
        "E1_0 = 0\n",
        "E2_0 = 100\n",
        "I_0 = 0\n",
        "Ia_0 = 0\n",
        "R_0 = 0\n",
        "U0 = [S_0, E1_0, E2_0, I_0, Ia_0, R_0]\n",
        "solver = RungeKutta4(SEEIIR_model)\n",
        "solver.set_initial_condition(U0)\n",
        "time_points = np.linspace(0, 100, 101)\n",
        "u, t = solver.solve(time_points)\n",
        "S = u[:,0]; E1 = u[:,1]; E2 = u[:,2];\n",
        "I = u[:,3]; Ia = u[:,4]; R = u[:,5]\n",
        "plt.plot(t,S,label='S')\n",
        "plt.plot(t,E1,label='E1')\n",
        "plt.plot(t,E2,label='E2')\n",
        "plt.plot(t,I,label='I')\n",
        "plt.plot(t,Ia,label='Ia')\n",
        "plt.plot(t,R,label='R')\n",
        "plt.legend()\n",
        "plt.show()"
      ]
    },
    {
      "cell_type": "code",
      "execution_count": null,
      "id": "3f673837",
      "metadata": {
        "id": "3f673837"
      },
      "outputs": [],
      "source": [
        ""
      ]
    }
  ],
  "metadata": {
    "kernelspec": {
      "display_name": "Python 3 (ipykernel)",
      "language": "python",
      "name": "python3"
    },
    "language_info": {
      "codemirror_mode": {
        "name": "ipython",
        "version": 3
      },
      "file_extension": ".py",
      "mimetype": "text/x-python",
      "name": "python",
      "nbconvert_exporter": "python",
      "pygments_lexer": "ipython3",
      "version": "3.9.7"
    },
    "colab": {
      "name": "sole ode.ipynb",
      "provenance": [],
      "include_colab_link": true
    }
  },
  "nbformat": 4,
  "nbformat_minor": 5
}